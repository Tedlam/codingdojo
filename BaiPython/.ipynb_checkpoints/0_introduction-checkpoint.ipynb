{
 "cells": [
  {
   "cell_type": "markdown",
   "metadata": {
    "collapsed": true
   },
   "source": [
    "## Rock, Paper, Scissors, Lizard, Spock"
   ]
  },
  {
   "cell_type": "markdown",
   "metadata": {},
   "source": [
    "**First Implementation**"
   ]
  },
  {
   "cell_type": "code",
   "execution_count": 133,
   "metadata": {},
   "outputs": [
    {
     "name": "stdout",
     "output_type": "stream",
     "text": [
      "paper wins\n"
     ]
    }
   ],
   "source": [
    "guess_dict: dict = {'rock': 0, 'spock': 1, 'paper': 2, 'lizard': 3, 'scissors': 4}\n",
    "\n",
    "def play(player1: str, player2: str, guess_dict) -> None:\n",
    "    try:\n",
    "        distance: int = (guess_dict[player1] - guess_dict[player2]) % 5\n",
    "        print(\"equal\" if distance == 0 else player1 + \" wins\" if 0 < distance <= 2 else player2 + \" wins\")\n",
    "    except:\n",
    "        print(\"Please choose two from:\\n\" + \"\\n\".join(guess_dict))\n",
    "\n",
    "if __name__ == \"__main__\":\n",
    "    play(player1 = 'rock', player2 = 'paper', guess_dict = guess_dict)"
   ]
  },
  {
   "cell_type": "markdown",
   "metadata": {},
   "source": [
    "**Need to be improved**"
   ]
  },
  {
   "cell_type": "code",
   "execution_count": 129,
   "metadata": {},
   "outputs": [],
   "source": [
    "def generate_wins_mod_num(sample_muster):\n",
    "    wins_mod = []\n",
    "    for idx, value in enumerate(sample_muster):\n",
    "        wins_mod.append((0 - guess_dict[value]) % 5)\n",
    "    return wins_mod"
   ]
  },
  {
   "cell_type": "code",
   "execution_count": 130,
   "metadata": {},
   "outputs": [],
   "source": [
    "def is_valid_combi(sample_muster, guess_dict) -> bool:\n",
    "    actual_combi = []\n",
    "    wins_mod = generate_wins_mod_num(sample_muster)\n",
    "    for idx, item in enumerate(sample_muster):\n",
    "        actual_combi.append((guess_dict[sample_muster[0]] - guess_dict[sample_muster[idx]]) % 5)\n",
    "    return actual_combi == wins_modulo"
   ]
  },
  {
   "cell_type": "code",
   "execution_count": 131,
   "metadata": {},
   "outputs": [],
   "source": [
    "import itertools\n",
    "\n",
    "guess_dict: dict = {'rock': 0, 'spock': 1, 'paper': 2, 'lizard': 3, 'scissors': 4}\n",
    "sample_muster = list(guess_dict.keys())"
   ]
  },
  {
   "cell_type": "code",
   "execution_count": 132,
   "metadata": {},
   "outputs": [],
   "source": [
    "def display_all_combi(sample_muster, guess_dict):\n",
    "    all_combi = list(itertools.permutations(guess_dict, r=5))\n",
    "    wins_modulo = [guess_dict]\n",
    "    wins_combi = []\n",
    "    for combi in all_combi:\n",
    "        if is_valid_combi(sample_muster=list(combi), guess_dict=guess_dict):\n",
    "            wins_combi.append(combi)\n",
    "    for row in wins_combi:\n",
    "        print(row)"
   ]
  },
  {
   "cell_type": "code",
   "execution_count": 128,
   "metadata": {},
   "outputs": [
    {
     "name": "stdout",
     "output_type": "stream",
     "text": [
      "('rock', 'spock', 'paper', 'lizard', 'scissors')\n",
      "('spock', 'paper', 'lizard', 'scissors', 'rock')\n",
      "('paper', 'lizard', 'scissors', 'rock', 'spock')\n",
      "('lizard', 'scissors', 'rock', 'spock', 'paper')\n",
      "('scissors', 'rock', 'spock', 'paper', 'lizard')\n"
     ]
    }
   ],
   "source": [
    "display_all_combi(sample_muster, guess_dict)"
   ]
  },
  {
   "cell_type": "code",
   "execution_count": 139,
   "metadata": {},
   "outputs": [
    {
     "name": "stdout",
     "output_type": "stream",
     "text": [
      "spock wins\n"
     ]
    }
   ],
   "source": [
    "guess_dict1: dict = {'spock': 0, 'paper': 1, 'lizard': 2, 'scissors': 3, 'rock': 4}\n",
    "play(player1=\"spock\" , player2=\"rock\", guess_dict=guess_dict1)"
   ]
  },
  {
   "cell_type": "code",
   "execution_count": 140,
   "metadata": {},
   "outputs": [
    {
     "data": {
      "text/plain": [
       "[('rock', 'spock', 'paper', 'lizard', 'scissors'),\n",
       " ('rock', 'spock', 'paper', 'scissors', 'lizard'),\n",
       " ('rock', 'spock', 'lizard', 'paper', 'scissors'),\n",
       " ('rock', 'spock', 'lizard', 'scissors', 'paper'),\n",
       " ('rock', 'spock', 'scissors', 'paper', 'lizard'),\n",
       " ('rock', 'spock', 'scissors', 'lizard', 'paper'),\n",
       " ('rock', 'paper', 'spock', 'lizard', 'scissors'),\n",
       " ('rock', 'paper', 'spock', 'scissors', 'lizard'),\n",
       " ('rock', 'paper', 'lizard', 'spock', 'scissors'),\n",
       " ('rock', 'paper', 'lizard', 'scissors', 'spock'),\n",
       " ('rock', 'paper', 'scissors', 'spock', 'lizard'),\n",
       " ('rock', 'paper', 'scissors', 'lizard', 'spock'),\n",
       " ('rock', 'lizard', 'spock', 'paper', 'scissors'),\n",
       " ('rock', 'lizard', 'spock', 'scissors', 'paper'),\n",
       " ('rock', 'lizard', 'paper', 'spock', 'scissors'),\n",
       " ('rock', 'lizard', 'paper', 'scissors', 'spock'),\n",
       " ('rock', 'lizard', 'scissors', 'spock', 'paper'),\n",
       " ('rock', 'lizard', 'scissors', 'paper', 'spock'),\n",
       " ('rock', 'scissors', 'spock', 'paper', 'lizard'),\n",
       " ('rock', 'scissors', 'spock', 'lizard', 'paper'),\n",
       " ('rock', 'scissors', 'paper', 'spock', 'lizard'),\n",
       " ('rock', 'scissors', 'paper', 'lizard', 'spock'),\n",
       " ('rock', 'scissors', 'lizard', 'spock', 'paper'),\n",
       " ('rock', 'scissors', 'lizard', 'paper', 'spock'),\n",
       " ('spock', 'rock', 'paper', 'lizard', 'scissors'),\n",
       " ('spock', 'rock', 'paper', 'scissors', 'lizard'),\n",
       " ('spock', 'rock', 'lizard', 'paper', 'scissors'),\n",
       " ('spock', 'rock', 'lizard', 'scissors', 'paper'),\n",
       " ('spock', 'rock', 'scissors', 'paper', 'lizard'),\n",
       " ('spock', 'rock', 'scissors', 'lizard', 'paper'),\n",
       " ('spock', 'paper', 'rock', 'lizard', 'scissors'),\n",
       " ('spock', 'paper', 'rock', 'scissors', 'lizard'),\n",
       " ('spock', 'paper', 'lizard', 'rock', 'scissors'),\n",
       " ('spock', 'paper', 'lizard', 'scissors', 'rock'),\n",
       " ('spock', 'paper', 'scissors', 'rock', 'lizard'),\n",
       " ('spock', 'paper', 'scissors', 'lizard', 'rock'),\n",
       " ('spock', 'lizard', 'rock', 'paper', 'scissors'),\n",
       " ('spock', 'lizard', 'rock', 'scissors', 'paper'),\n",
       " ('spock', 'lizard', 'paper', 'rock', 'scissors'),\n",
       " ('spock', 'lizard', 'paper', 'scissors', 'rock'),\n",
       " ('spock', 'lizard', 'scissors', 'rock', 'paper'),\n",
       " ('spock', 'lizard', 'scissors', 'paper', 'rock'),\n",
       " ('spock', 'scissors', 'rock', 'paper', 'lizard'),\n",
       " ('spock', 'scissors', 'rock', 'lizard', 'paper'),\n",
       " ('spock', 'scissors', 'paper', 'rock', 'lizard'),\n",
       " ('spock', 'scissors', 'paper', 'lizard', 'rock'),\n",
       " ('spock', 'scissors', 'lizard', 'rock', 'paper'),\n",
       " ('spock', 'scissors', 'lizard', 'paper', 'rock'),\n",
       " ('paper', 'rock', 'spock', 'lizard', 'scissors'),\n",
       " ('paper', 'rock', 'spock', 'scissors', 'lizard'),\n",
       " ('paper', 'rock', 'lizard', 'spock', 'scissors'),\n",
       " ('paper', 'rock', 'lizard', 'scissors', 'spock'),\n",
       " ('paper', 'rock', 'scissors', 'spock', 'lizard'),\n",
       " ('paper', 'rock', 'scissors', 'lizard', 'spock'),\n",
       " ('paper', 'spock', 'rock', 'lizard', 'scissors'),\n",
       " ('paper', 'spock', 'rock', 'scissors', 'lizard'),\n",
       " ('paper', 'spock', 'lizard', 'rock', 'scissors'),\n",
       " ('paper', 'spock', 'lizard', 'scissors', 'rock'),\n",
       " ('paper', 'spock', 'scissors', 'rock', 'lizard'),\n",
       " ('paper', 'spock', 'scissors', 'lizard', 'rock'),\n",
       " ('paper', 'lizard', 'rock', 'spock', 'scissors'),\n",
       " ('paper', 'lizard', 'rock', 'scissors', 'spock'),\n",
       " ('paper', 'lizard', 'spock', 'rock', 'scissors'),\n",
       " ('paper', 'lizard', 'spock', 'scissors', 'rock'),\n",
       " ('paper', 'lizard', 'scissors', 'rock', 'spock'),\n",
       " ('paper', 'lizard', 'scissors', 'spock', 'rock'),\n",
       " ('paper', 'scissors', 'rock', 'spock', 'lizard'),\n",
       " ('paper', 'scissors', 'rock', 'lizard', 'spock'),\n",
       " ('paper', 'scissors', 'spock', 'rock', 'lizard'),\n",
       " ('paper', 'scissors', 'spock', 'lizard', 'rock'),\n",
       " ('paper', 'scissors', 'lizard', 'rock', 'spock'),\n",
       " ('paper', 'scissors', 'lizard', 'spock', 'rock'),\n",
       " ('lizard', 'rock', 'spock', 'paper', 'scissors'),\n",
       " ('lizard', 'rock', 'spock', 'scissors', 'paper'),\n",
       " ('lizard', 'rock', 'paper', 'spock', 'scissors'),\n",
       " ('lizard', 'rock', 'paper', 'scissors', 'spock'),\n",
       " ('lizard', 'rock', 'scissors', 'spock', 'paper'),\n",
       " ('lizard', 'rock', 'scissors', 'paper', 'spock'),\n",
       " ('lizard', 'spock', 'rock', 'paper', 'scissors'),\n",
       " ('lizard', 'spock', 'rock', 'scissors', 'paper'),\n",
       " ('lizard', 'spock', 'paper', 'rock', 'scissors'),\n",
       " ('lizard', 'spock', 'paper', 'scissors', 'rock'),\n",
       " ('lizard', 'spock', 'scissors', 'rock', 'paper'),\n",
       " ('lizard', 'spock', 'scissors', 'paper', 'rock'),\n",
       " ('lizard', 'paper', 'rock', 'spock', 'scissors'),\n",
       " ('lizard', 'paper', 'rock', 'scissors', 'spock'),\n",
       " ('lizard', 'paper', 'spock', 'rock', 'scissors'),\n",
       " ('lizard', 'paper', 'spock', 'scissors', 'rock'),\n",
       " ('lizard', 'paper', 'scissors', 'rock', 'spock'),\n",
       " ('lizard', 'paper', 'scissors', 'spock', 'rock'),\n",
       " ('lizard', 'scissors', 'rock', 'spock', 'paper'),\n",
       " ('lizard', 'scissors', 'rock', 'paper', 'spock'),\n",
       " ('lizard', 'scissors', 'spock', 'rock', 'paper'),\n",
       " ('lizard', 'scissors', 'spock', 'paper', 'rock'),\n",
       " ('lizard', 'scissors', 'paper', 'rock', 'spock'),\n",
       " ('lizard', 'scissors', 'paper', 'spock', 'rock'),\n",
       " ('scissors', 'rock', 'spock', 'paper', 'lizard'),\n",
       " ('scissors', 'rock', 'spock', 'lizard', 'paper'),\n",
       " ('scissors', 'rock', 'paper', 'spock', 'lizard'),\n",
       " ('scissors', 'rock', 'paper', 'lizard', 'spock'),\n",
       " ('scissors', 'rock', 'lizard', 'spock', 'paper'),\n",
       " ('scissors', 'rock', 'lizard', 'paper', 'spock'),\n",
       " ('scissors', 'spock', 'rock', 'paper', 'lizard'),\n",
       " ('scissors', 'spock', 'rock', 'lizard', 'paper'),\n",
       " ('scissors', 'spock', 'paper', 'rock', 'lizard'),\n",
       " ('scissors', 'spock', 'paper', 'lizard', 'rock'),\n",
       " ('scissors', 'spock', 'lizard', 'rock', 'paper'),\n",
       " ('scissors', 'spock', 'lizard', 'paper', 'rock'),\n",
       " ('scissors', 'paper', 'rock', 'spock', 'lizard'),\n",
       " ('scissors', 'paper', 'rock', 'lizard', 'spock'),\n",
       " ('scissors', 'paper', 'spock', 'rock', 'lizard'),\n",
       " ('scissors', 'paper', 'spock', 'lizard', 'rock'),\n",
       " ('scissors', 'paper', 'lizard', 'rock', 'spock'),\n",
       " ('scissors', 'paper', 'lizard', 'spock', 'rock'),\n",
       " ('scissors', 'lizard', 'rock', 'spock', 'paper'),\n",
       " ('scissors', 'lizard', 'rock', 'paper', 'spock'),\n",
       " ('scissors', 'lizard', 'spock', 'rock', 'paper'),\n",
       " ('scissors', 'lizard', 'spock', 'paper', 'rock'),\n",
       " ('scissors', 'lizard', 'paper', 'rock', 'spock'),\n",
       " ('scissors', 'lizard', 'paper', 'spock', 'rock')]"
      ]
     },
     "execution_count": 140,
     "metadata": {},
     "output_type": "execute_result"
    }
   ],
   "source": [
    "all_combi"
   ]
  },
  {
   "cell_type": "code",
   "execution_count": null,
   "metadata": {},
   "outputs": [],
   "source": []
  }
 ],
 "metadata": {
  "kernelspec": {
   "display_name": "Python 3 (Spyder)",
   "language": "python3",
   "name": "python3"
  },
  "language_info": {
   "codemirror_mode": {
    "name": "ipython",
    "version": 3
   },
   "file_extension": ".py",
   "mimetype": "text/x-python",
   "name": "python",
   "nbconvert_exporter": "python",
   "pygments_lexer": "ipython3",
   "version": "3.7.4"
  }
 },
 "nbformat": 4,
 "nbformat_minor": 1
}

{
 "cells": [
  {
   "cell_type": "code",
   "execution_count": 0,
   "metadata": {
    "colab": {
     "base_uri": "https://localhost:8080/",
     "height": 34
    },
    "colab_type": "code",
    "id": "U70ivW3I2APO",
    "outputId": "7210b4d0-2b33-4068-a537-0253c50c15ef"
   },
   "outputs": [
    {
     "data": {
      "text/plain": [
       "{1: 'Schere', 2: 'Papier', 3: 'Stein', 4: 'Echse', 5: 'Spock'}"
      ]
     },
     "execution_count": 25,
     "metadata": {
      "tags": []
     },
     "output_type": "execute_result"
    }
   ],
   "source": [
    "from random import randrange\n",
    "\n",
    "options = {1 : \"Schere\",\n",
    "           2 : \"Papier\",\n",
    "           3 :\"Stein\",\n",
    "           4 :\"Echse\",\n",
    "           5 :\"Spock\"}\n",
    "options"
   ]
  },
  {
   "cell_type": "code",
   "execution_count": 0,
   "metadata": {
    "colab": {},
    "colab_type": "code",
    "id": "aXtX52lC4ZI-"
   },
   "outputs": [],
   "source": [
    "def find_winner(p1, p2):\n",
    "  if p1 == p2:\n",
    "    return \"Gleichstand\"\n",
    "  elif (p1 + 1 - p2) % 5 == 0 or (p1 + 3 - p2) % 5 == 0:\n",
    "    return options[p1] + \" beats \" + options[p2]\n",
    "  else:\n",
    "    return options[p1] + \" loses to \" + options[p2]"
   ]
  },
  {
   "cell_type": "code",
   "execution_count": 0,
   "metadata": {
    "colab": {
     "base_uri": "https://localhost:8080/",
     "height": 612
    },
    "colab_type": "code",
    "id": "Z4c2pSy98kwp",
    "outputId": "c94bfb47-737c-4704-bed9-cef65bbb45cc"
   },
   "outputs": [
    {
     "name": "stdout",
     "output_type": "stream",
     "text": [
      "Testing 1 : Schere\n",
      "Gleichstand\n",
      "Schere beats Papier\n",
      "Schere loses to Stein\n",
      "Schere beats Echse\n",
      "Schere loses to Spock\n",
      "\n",
      "Testing 2 : Papier\n",
      "Papier loses to Schere\n",
      "Gleichstand\n",
      "Papier beats Stein\n",
      "Papier loses to Echse\n",
      "Papier beats Spock\n",
      "\n",
      "Testing 3 : Stein\n",
      "Stein beats Schere\n",
      "Stein loses to Papier\n",
      "Gleichstand\n",
      "Stein beats Echse\n",
      "Stein loses to Spock\n",
      "\n",
      "Testing 4 : Echse\n",
      "Echse loses to Schere\n",
      "Echse beats Papier\n",
      "Echse loses to Stein\n",
      "Gleichstand\n",
      "Echse beats Spock\n",
      "\n",
      "Testing 5 : Spock\n",
      "Spock beats Schere\n",
      "Spock loses to Papier\n",
      "Spock beats Stein\n",
      "Spock loses to Echse\n",
      "Gleichstand\n",
      "\n"
     ]
    }
   ],
   "source": [
    "for i in range(1,6):\n",
    "  print(\"Testing \" + str(i) + \" : \" + options[i])\n",
    "  for j in range(1,6):\n",
    "    print(find_winner(i,j))\n",
    "  print()"
   ]
  },
  {
   "cell_type": "code",
   "execution_count": 0,
   "metadata": {
    "colab": {
     "base_uri": "https://localhost:8080/",
     "height": 51
    },
    "colab_type": "code",
    "id": "3kPYMiw788US",
    "outputId": "74bbf4c3-737b-4b87-bdc2-2f900ebed271"
   },
   "outputs": [
    {
     "name": "stdout",
     "output_type": "stream",
     "text": [
      "Enter a number from 1 to 5: 2\n",
      "Papier beats Spock\n"
     ]
    }
   ],
   "source": [
    "p1 = int(input(\"Enter a number from 1 to 5: \"))\n",
    "p2 = randrange(5) + 1\n",
    "print(\"You chose \" + options[p1])\n",
    "print(\"Compupter\")\n",
    "print(find_winner(p1,p2))\n"
   ]
  },
  {
   "cell_type": "code",
   "execution_count": 0,
   "metadata": {
    "colab": {},
    "colab_type": "code",
    "id": "VcrL1KEW_8Hw"
   },
   "outputs": [],
   "source": []
  }
 ],
 "metadata": {
  "colab": {
   "collapsed_sections": [],
   "name": "Rock-Paper-Scissors-Lizard-Spock",
   "provenance": [],
   "version": "0.3.2"
  },
  "kernelspec": {
   "display_name": "Python 3 (Spyder)",
   "language": "python3",
   "name": "python3"
  },
  "language_info": {
   "codemirror_mode": {
    "name": "ipython",
    "version": 3
   },
   "file_extension": ".py",
   "mimetype": "text/x-python",
   "name": "python",
   "nbconvert_exporter": "python",
   "pygments_lexer": "ipython3",
   "version": "3.7.4"
  }
 },
 "nbformat": 4,
 "nbformat_minor": 1
}
